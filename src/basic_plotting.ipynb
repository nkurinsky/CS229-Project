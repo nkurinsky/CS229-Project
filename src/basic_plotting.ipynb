{
 "metadata": {
  "name": "",
  "signature": "sha256:cf4eeea3ceb1f30e6c64803455c141d1c0440d692366f3dfcbde4c56497a5004"
 },
 "nbformat": 3,
 "nbformat_minor": 0,
 "worksheets": [
  {
   "cells": [
    {
     "cell_type": "code",
     "collapsed": false,
     "input": [
      "%matplotlib inline\n",
      "import numpy as np\n",
      "import matplotlib.pyplot as plt\n",
      "from astropy.io import fits"
     ],
     "language": "python",
     "metadata": {},
     "outputs": [],
     "prompt_number": 1
    },
    {
     "cell_type": "code",
     "collapsed": false,
     "input": [
      "hdulist = fits.open(\"round3/round3_training_set.fits\")"
     ],
     "language": "python",
     "metadata": {},
     "outputs": [],
     "prompt_number": 26
    },
    {
     "cell_type": "code",
     "collapsed": false,
     "input": [
      "data = hdulist[1].data\n",
      "print hdulist[1].columns"
     ],
     "language": "python",
     "metadata": {},
     "outputs": [
      {
       "output_type": "stream",
       "stream": "stdout",
       "text": [
        "ColDefs(\n",
        "    name = 'RA'; format = 'D'\n",
        "    name = 'DEC'; format = 'D'\n",
        "    name = 'MAG_MODEL_G'; format = 'D'\n",
        "    name = 'MAG_MODEL_R'; format = 'D'\n",
        "    name = 'MAG_MODEL_I'; format = 'D'\n",
        "    name = 'MAG_MODEL_Z'; format = 'D'\n",
        "    name = 'MAGERR_MODEL_G'; format = 'D'\n",
        "    name = 'MAGERR_MODEL_R'; format = 'D'\n",
        "    name = 'MAGERR_MODEL_I'; format = 'D'\n",
        "    name = 'MAGERR_MODEL_Z'; format = 'D'\n",
        "    name = 'MAG_DETMODEL_G'; format = 'D'\n",
        "    name = 'MAG_DETMODEL_R'; format = 'D'\n",
        "    name = 'MAG_DETMODEL_I'; format = 'D'\n",
        "    name = 'MAG_DETMODEL_Z'; format = 'D'\n",
        "    name = 'MAGERR_DETMODEL_G'; format = 'D'\n",
        "    name = 'MAGERR_DETMODEL_R'; format = 'D'\n",
        "    name = 'MAGERR_DETMODEL_I'; format = 'D'\n",
        "    name = 'MAGERR_DETMODEL_Z'; format = 'D'\n",
        "    name = 'MAG_AUTO_G'; format = 'D'\n",
        "    name = 'MAG_AUTO_R'; format = 'D'\n",
        "    name = 'MAG_AUTO_I'; format = 'D'\n",
        "    name = 'MAG_AUTO_Z'; format = 'D'\n",
        "    name = 'MAGERR_AUTO_G'; format = 'D'\n",
        "    name = 'MAGERR_AUTO_R'; format = 'D'\n",
        "    name = 'MAGERR_AUTO_I'; format = 'D'\n",
        "    name = 'MAGERR_AUTO_Z'; format = 'D'\n",
        "    name = 'MAG_PSF_G'; format = 'D'\n",
        "    name = 'MAG_PSF_R'; format = 'D'\n",
        "    name = 'MAG_PSF_I'; format = 'D'\n",
        "    name = 'MAG_PSF_Z'; format = 'D'\n",
        "    name = 'MAGERR_PSF_G'; format = 'D'\n",
        "    name = 'MAGERR_PSF_R'; format = 'D'\n",
        "    name = 'MAGERR_PSF_I'; format = 'D'\n",
        "    name = 'MAGERR_PSF_Z'; format = 'D'\n",
        "    name = 'SPREAD_MODEL_G'; format = 'D'\n",
        "    name = 'SPREAD_MODEL_R'; format = 'D'\n",
        "    name = 'SPREAD_MODEL_I'; format = 'D'\n",
        "    name = 'SPREAD_MODEL_Z'; format = 'D'\n",
        "    name = 'SPREADERR_MODEL_G'; format = 'D'\n",
        "    name = 'SPREADERR_MODEL_R'; format = 'D'\n",
        "    name = 'SPREADERR_MODEL_I'; format = 'D'\n",
        "    name = 'SPREADERR_MODEL_Z'; format = 'D'\n",
        "    name = 'CLASS_STAR_G'; format = 'D'\n",
        "    name = 'CLASS_STAR_R'; format = 'D'\n",
        "    name = 'CLASS_STAR_I'; format = 'D'\n",
        "    name = 'CLASS_STAR_Z'; format = 'D'\n",
        "    name = 'FWHM_WORLD_G'; format = 'D'\n",
        "    name = 'FWHM_WORLD_R'; format = 'D'\n",
        "    name = 'FWHM_WORLD_I'; format = 'D'\n",
        "    name = 'FWHM_WORLD_Z'; format = 'D'\n",
        "    name = 'MODEST_CLASS'; format = 'I'\n",
        "    name = 'FIELD'; format = 'I'\n",
        "    name = 'TRUE_CLASS'; format = 'I'\n",
        ")\n"
       ]
      }
     ],
     "prompt_number": 27
    },
    {
     "cell_type": "code",
     "collapsed": false,
     "input": [
      "i_mags = data['MAG_AUTO_I']\n",
      "truth = data['TRUE_CLASS']\n",
      "class_star_i = data['CLASS_STAR_I']\n",
      "spread_model_i = data['SPREAD_MODEL_I']"
     ],
     "language": "python",
     "metadata": {},
     "outputs": [],
     "prompt_number": 28
    },
    {
     "cell_type": "code",
     "collapsed": false,
     "input": [
      "plt.figure()\n",
      "_ = plt.hist(class_star_i[truth==0],bins=20,label=\"Galaxies\")\n",
      "_ = plt.hist(class_star_i[truth==1],bins=20,label=\"Stars\")\n",
      "plt.legend()"
     ],
     "language": "python",
     "metadata": {},
     "outputs": [
      {
       "metadata": {},
       "output_type": "pyout",
       "prompt_number": 33,
       "text": [
        "<matplotlib.legend.Legend at 0x109ea0690>"
       ]
      },
      {
       "metadata": {},
       "output_type": "display_data",
       "png": "[encoded data removed]",
       "text": [
        "<matplotlib.figure.Figure at 0x10c290750>"
       ]
      }
     ],
     "prompt_number": 33
    },
    {
     "cell_type": "code",
     "collapsed": false,
     "input": [
      "plt.figure()\n",
      "_ = plt.hist(spread_model_i[truth==0],bins=50,label=\"Galaxies\",range=(-.03,.03))\n",
      "_ = plt.hist(spread_model_i[truth==1],bins=50,label=\"Stars\",range=(-.03,.03))\n",
      "plt.legend()"
     ],
     "language": "python",
     "metadata": {},
     "outputs": [
      {
       "metadata": {},
       "output_type": "pyout",
       "prompt_number": 34,
       "text": [
        "<matplotlib.legend.Legend at 0x107915c50>"
       ]
      },
      {
       "metadata": {},
       "output_type": "display_data",
       "png": "[encoded data removed]",
       "text": [
        "<matplotlib.figure.Figure at 0x1098cead0>"
       ]
      }
     ],
     "prompt_number": 34
    },
    {
     "cell_type": "code",
     "collapsed": false,
     "input": [
      "import sklearn"
     ],
     "language": "python",
     "metadata": {},
     "outputs": [],
     "prompt_number": 36
    },
    {
     "cell_type": "code",
     "collapsed": false,
     "input": [],
     "language": "python",
     "metadata": {},
     "outputs": []
    }
   ],
   "metadata": {}
  }
 ]
}